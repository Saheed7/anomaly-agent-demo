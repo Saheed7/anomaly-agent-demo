{
  "nbformat": 4,
  "nbformat_minor": 0,
  "metadata": {
    "colab": {
      "provenance": [],
      "authorship_tag": "ABX9TyO1zZvqOstZ3FTiJ9olZoKi",
      "include_colab_link": true
    },
    "kernelspec": {
      "name": "python3",
      "display_name": "Python 3"
    },
    "language_info": {
      "name": "python"
    }
  },
  "cells": [
    {
      "cell_type": "markdown",
      "metadata": {
        "id": "view-in-github",
        "colab_type": "text"
      },
      "source": [
        "<a href=\"https://colab.research.google.com/github/Saheed7/anomaly-agent-demo/blob/main/Anomaly_Agent.ipynb\" target=\"_parent\"><img src=\"https://colab.research.google.com/assets/colab-badge.svg\" alt=\"Open In Colab\"/></a>"
      ]
    },
    {
      "cell_type": "markdown",
      "source": [
        "# Anomaly_Agent_Demo"
      ],
      "metadata": {
        "id": "xRFFiM0iCbYm"
      }
    },
    {
      "cell_type": "code",
      "source": [
        "# 1. Install Dependencies\n",
        "!pip install pandas scikit-learn shap gradio transformers"
      ],
      "metadata": {
        "id": "FgKpSCfWCgJK"
      },
      "execution_count": null,
      "outputs": []
    },
    {
      "cell_type": "code",
      "source": [
        "# 2. Import Libraries\n",
        "import pandas as pd\n",
        "import numpy as np\n",
        "from sklearn.ensemble import RandomForestClassifier\n",
        "from sklearn.svm import SVC\n",
        "from sklearn.naive_bayes import GaussianNB\n",
        "from sklearn.preprocessing import MinMaxScaler\n",
        "import shap\n",
        "import gradio as gr\n",
        "import joblib"
      ],
      "metadata": {
        "id": "SB05Mpa7C36c"
      },
      "execution_count": null,
      "outputs": []
    },
    {
      "cell_type": "code",
      "source": [
        "# 3. Load Dataset (Replace with Edge-IIoTset/CIC-IoT 2023 paths)\n",
        "# Note: For Edge-IIoTset, use: df = pd.read_csv(\"Edge-IIoTset.csv\")\n",
        "# For CIC-IoT 2023, use: df = pd.read_csv(\"CIC-IoT-2023.csv\")\n",
        "# Example synthetic data for illustration:\n",
        "data = {\n",
        "    'packet_size': np.random.randint(50, 1000, 100),\n",
        "    'protocol_type': np.random.choice(['Modbus', 'MQTT', 'HTTP'], 100),\n",
        "    'packet_rate': np.random.uniform(1, 100, 100),\n",
        "    'label': np.random.choice(['Benign', 'DDoS', 'Reconnaissance'], 100)\n",
        "}\n",
        "df = pd.DataFrame(data)"
      ],
      "metadata": {
        "id": "zRQWKoI8DBHY"
      },
      "execution_count": null,
      "outputs": []
    },
    {
      "cell_type": "code",
      "source": [
        "# 4. Preprocessing\n",
        "def preprocess_data(df):\n",
        "    # Encode categorical features (e.g., protocol_type)\n",
        "    df = pd.get_dummies(df, columns=['protocol_type'])\n",
        "\n",
        "    # Normalize numerical features\n",
        "    scaler = MinMaxScaler()\n",
        "    numerical_features = ['packet_size', 'packet_rate']\n",
        "    df[numerical_features] = scaler.fit_transform(df[numerical_features])\n",
        "\n",
        "    # Quantize to 8-bit (example)\n",
        "    df[numerical_features] = (df[numerical_features] * 255).astype(np.uint8)\n",
        "\n",
        "    # Separate features and labels\n",
        "    X = df.drop('label', axis=1)\n",
        "    y = df['label']\n",
        "    return X, y\n",
        "\n",
        "X, y = preprocess_data(df)"
      ],
      "metadata": {
        "id": "hucLEQ78DpI3"
      },
      "execution_count": null,
      "outputs": []
    },
    {
      "cell_type": "code",
      "source": [
        "# 5. Train Models\n",
        "models = {\n",
        "    'Random Forest': RandomForestClassifier(n_estimators=100),\n",
        "    'SVM': SVC(kernel='rbf', C=1.0, probability=True),\n",
        "    'Naïve Bayes': GaussianNB()\n",
        "}\n",
        "\n",
        "for name, model in models.items():\n",
        "    model.fit(X, y)\n",
        "    joblib.dump(model, f'{name}.pkl')  # Save models"
      ],
      "metadata": {
        "id": "5AAvmFXZEFyH"
      },
      "execution_count": null,
      "outputs": []
    },
    {
      "cell_type": "code",
      "source": [
        "# 6. SHAP Analysis\n",
        "explainer = shap.KernelExplainer(models['Random Forest'].predict_proba, X)\n",
        "shap_values = explainer.shap_values(X)"
      ],
      "metadata": {
        "id": "1_2Gez00EOu-"
      },
      "execution_count": null,
      "outputs": []
    },
    {
      "cell_type": "code",
      "source": [
        "# 7. Inference Pipeline\n",
        "def anomaly_agent_inference(features):\n",
        "    # Preprocess input\n",
        "    input_df = pd.DataFrame([features])\n",
        "    input_df = pd.get_dummies(input_df)\n",
        "    input_df = input_df.reindex(columns=X.columns, fill_value=0)\n",
        "\n",
        "    # Predict\n",
        "    predictions = {}\n",
        "    for name, model in models.items():\n",
        "        proba = model.predict_proba(input_df)[0]\n",
        "        predictions[name] = {model.classes_[i]: proba[i] for i in range(len(proba))}\n",
        "\n",
        "    # SHAP explanation\n",
        "    shap_explanation = explainer.shap_values(input_df)\n",
        "    return predictions, shap_explanation"
      ],
      "metadata": {
        "id": "jEwGo9LgEZHz"
      },
      "execution_count": null,
      "outputs": []
    },
    {
      "cell_type": "code",
      "source": [
        "# 8. Gradio Interface for Demo\n",
        "def predict(packet_size, packet_rate, protocol_type):\n",
        "    features = {\n",
        "        'packet_size': packet_size,\n",
        "        'packet_rate': packet_rate,\n",
        "        'protocol_type': protocol_type\n",
        "    }\n",
        "    predictions, shap_exp = anomaly_agent_inference(features)\n",
        "    explanation = f\"SHAP Values: {shap_exp[0][0]:.2f} (packet_size), {shap_exp[0][1]:.2f} (packet_rate)\"\n",
        "    return predictions, explanation\n",
        "\n",
        "iface = gr.Interface(\n",
        "    fn=predict,\n",
        "    inputs=[\n",
        "        gr.Number(label=\"Packet Size\"),\n",
        "        gr.Number(label=\"Packet Rate\"),\n",
        "        gr.Dropdown(['Modbus', 'MQTT', 'HTTP'], label=\"Protocol Type\")\n",
        "    ],\n",
        "    outputs=[\n",
        "        gr.Label(label=\"Model Predictions\"),\n",
        "        gr.Textbox(label=\"Explanation\")\n",
        "    ],\n",
        "    title=\"Anomaly Agent Demo\"\n",
        ")\n",
        "\n",
        "iface.launch()"
      ],
      "metadata": {
        "id": "8hkvxmljEoyU"
      },
      "execution_count": null,
      "outputs": []
    }
  ]
}